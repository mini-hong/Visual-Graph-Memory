{
 "cells": [
  {
   "cell_type": "code",
   "execution_count": null,
   "metadata": {},
   "outputs": [],
   "source": [
    "import joblib\n",
    "import os\n",
    "import numpy as np\n",
    "import cv2\n",
    "import matplotlib.pyplot as plt\n",
    "DATA_DIR = 'IL_data/train'\n",
    "data_file = np.random.choice(os.listdir(DATA_DIR))\n",
    "data = joblib.load(os.path.join(DATA_DIR,data_file))"
   ]
  },
  {
   "cell_type": "code",
   "execution_count": null,
   "metadata": {},
   "outputs": [],
   "source": [
    "for t in range(len(data['rgb'])-1):\n",
    "    view_im = np.concatenate([data['rgb'][t]/255., \n",
    "                              data['target_img'][data['target_idx'][t]][:,:,:3]],0)\n",
    "    cv2.imshow('view',view_im[:,:,::-1])\n",
    "    cv2.waitKey(0)\n",
    "    if data['action'][t] == 0:\n",
    "        plt.figure(figsize=(12,12))\n",
    "        plt.subplot(121)\n",
    "        plt.imshow(data['rgb'][t])\n",
    "        plt.axis('off')\n",
    "        plt.title('agent observation')\n",
    "        plt.subplot(122)\n",
    "        plt.imshow(data['target_img'][data['target_idx'][t]][:,:,:3])\n",
    "        plt.axis('off')\n",
    "        plt.title('target observation dist=%.3f'%(data['distance'][t]))\n",
    "        plt.show()"
   ]
  }
 ],
 "metadata": {
  "kernelspec": {
   "display_name": "visual_navi",
   "language": "python",
   "name": "visual_navi"
  },
  "language_info": {
   "codemirror_mode": {
    "name": "ipython",
    "version": 3
   },
   "file_extension": ".py",
   "mimetype": "text/x-python",
   "name": "python",
   "nbconvert_exporter": "python",
   "pygments_lexer": "ipython3",
   "version": "3.6.8"
  }
 },
 "nbformat": 4,
 "nbformat_minor": 2
}
